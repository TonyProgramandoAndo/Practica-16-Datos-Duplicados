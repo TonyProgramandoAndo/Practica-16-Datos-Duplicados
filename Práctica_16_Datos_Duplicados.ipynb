{
  "nbformat": 4,
  "nbformat_minor": 0,
  "metadata": {
    "colab": {
      "provenance": []
    },
    "kernelspec": {
      "name": "python3",
      "display_name": "Python 3"
    },
    "language_info": {
      "name": "python"
    }
  },
  "cells": [
    {
      "cell_type": "markdown",
      "source": [
        "#Práctica #16: Datos Duplicados"
      ],
      "metadata": {
        "id": "zfHcq81iycAU"
      }
    },
    {
      "cell_type": "markdown",
      "source": [
        "Antonio Calzadilla Miranda"
      ],
      "metadata": {
        "id": "LFcA6j0RyhjY"
      }
    },
    {
      "cell_type": "code",
      "execution_count": 1,
      "metadata": {
        "colab": {
          "base_uri": "https://localhost:8080/"
        },
        "id": "G1CC0v-6yYC-",
        "outputId": "dbd1fd3b-1721-47bf-8c1a-53b81285998f"
      },
      "outputs": [
        {
          "output_type": "stream",
          "name": "stdout",
          "text": [
            "Mounted at /content/drive\n"
          ]
        }
      ],
      "source": [
        "from google.colab import drive\n",
        "drive.mount('/content/drive')"
      ]
    },
    {
      "cell_type": "markdown",
      "source": [
        "###Ejercicio 01. Datos Perdidos."
      ],
      "metadata": {
        "id": "SYtlygWH5m5o"
      }
    },
    {
      "cell_type": "code",
      "source": [
        "  #Importamos la librería de pandas y asignamos un alias (pd)\n",
        "  import pandas as pd\n",
        "\n",
        "  # Leemos el archivo que contiene comas\n",
        "  df = pd.read_csv(\"/content/drive/MyDrive/Colab Notebooks/Programacion /Semana 07 09142025/dirtydata.csv\")\n",
        "  #imprimimos el nombre de las columnas\n",
        "  print(df.columns)\n",
        "  print(df.head(10))"
      ],
      "metadata": {
        "colab": {
          "base_uri": "https://localhost:8080/"
        },
        "id": "4StENv98zR3S",
        "outputId": "ea090430-5aac-4707-e2a7-dd956abe91db"
      },
      "execution_count": 140,
      "outputs": [
        {
          "output_type": "stream",
          "name": "stdout",
          "text": [
            "Index(['Duration', 'Date', 'Pulse', 'Maxpulse', 'Calories'], dtype='object')\n",
            "   Duration          Date  Pulse  Maxpulse  Calories\n",
            "0        60  '2020/12/01'    110       130     409.1\n",
            "1        60  '2020/12/02'    117       145     479.0\n",
            "2        60  '2020/12/03'    103       135     340.0\n",
            "3        45  '2020/12/04'    109       175     282.4\n",
            "4        45  '2020/12/05'    117       148     406.0\n",
            "5        60  '2020/12/06'    102       127     300.0\n",
            "6        60  '2020/12/07'    110       136     374.0\n",
            "7       450  '2020/12/08'    104       134     253.3\n",
            "8        30  '2020/12/09'    109       133     195.1\n",
            "9        60  '2020/12/10'     98       124     269.0\n"
          ]
        }
      ]
    },
    {
      "cell_type": "code",
      "source": [
        "print(df.isnull().sum())"
      ],
      "metadata": {
        "colab": {
          "base_uri": "https://localhost:8080/"
        },
        "id": "Tl3VoEqOzuB_",
        "outputId": "50a483bd-7b04-44e2-d9d1-99e5f5836c60"
      },
      "execution_count": 141,
      "outputs": [
        {
          "output_type": "stream",
          "name": "stdout",
          "text": [
            "Duration    0\n",
            "Date        1\n",
            "Pulse       0\n",
            "Maxpulse    0\n",
            "Calories    2\n",
            "dtype: int64\n"
          ]
        }
      ]
    },
    {
      "cell_type": "code",
      "source": [
        "df.info()"
      ],
      "metadata": {
        "colab": {
          "base_uri": "https://localhost:8080/"
        },
        "id": "Cqk56mMFz8Bz",
        "outputId": "df7d8d52-4630-4f85-f528-a95de0a1b98d"
      },
      "execution_count": 142,
      "outputs": [
        {
          "output_type": "stream",
          "name": "stdout",
          "text": [
            "<class 'pandas.core.frame.DataFrame'>\n",
            "RangeIndex: 32 entries, 0 to 31\n",
            "Data columns (total 5 columns):\n",
            " #   Column    Non-Null Count  Dtype  \n",
            "---  ------    --------------  -----  \n",
            " 0   Duration  32 non-null     int64  \n",
            " 1   Date      31 non-null     object \n",
            " 2   Pulse     32 non-null     int64  \n",
            " 3   Maxpulse  32 non-null     int64  \n",
            " 4   Calories  30 non-null     float64\n",
            "dtypes: float64(1), int64(3), object(1)\n",
            "memory usage: 1.4+ KB\n"
          ]
        }
      ]
    },
    {
      "cell_type": "code",
      "source": [
        "print(df['Calories'].median())"
      ],
      "metadata": {
        "colab": {
          "base_uri": "https://localhost:8080/"
        },
        "id": "fUfcTcZa0Vf2",
        "outputId": "3e91788d-70d2-4884-c361-d17cc3559569"
      },
      "execution_count": 143,
      "outputs": [
        {
          "output_type": "stream",
          "name": "stdout",
          "text": [
            "291.2\n"
          ]
        }
      ]
    },
    {
      "cell_type": "code",
      "source": [
        "# Calcula la media de la columna calorias\n",
        "mean_calories = df['Calories'].mean()\n",
        "\n",
        "# Imputa los valores faltantes en columna calorias con la media\n",
        "df['Calories'].fillna(mean_calories, inplace=True)\n",
        "\n",
        "df.info()"
      ],
      "metadata": {
        "colab": {
          "base_uri": "https://localhost:8080/"
        },
        "id": "qf-exhv91i5f",
        "outputId": "25de0507-b0f8-48cb-ac47-cb8c52893732"
      },
      "execution_count": 144,
      "outputs": [
        {
          "output_type": "stream",
          "name": "stdout",
          "text": [
            "<class 'pandas.core.frame.DataFrame'>\n",
            "RangeIndex: 32 entries, 0 to 31\n",
            "Data columns (total 5 columns):\n",
            " #   Column    Non-Null Count  Dtype  \n",
            "---  ------    --------------  -----  \n",
            " 0   Duration  32 non-null     int64  \n",
            " 1   Date      31 non-null     object \n",
            " 2   Pulse     32 non-null     int64  \n",
            " 3   Maxpulse  32 non-null     int64  \n",
            " 4   Calories  32 non-null     float64\n",
            "dtypes: float64(1), int64(3), object(1)\n",
            "memory usage: 1.4+ KB\n"
          ]
        },
        {
          "output_type": "stream",
          "name": "stderr",
          "text": [
            "/tmp/ipython-input-530755597.py:5: FutureWarning: A value is trying to be set on a copy of a DataFrame or Series through chained assignment using an inplace method.\n",
            "The behavior will change in pandas 3.0. This inplace method will never work because the intermediate object on which we are setting values always behaves as a copy.\n",
            "\n",
            "For example, when doing 'df[col].method(value, inplace=True)', try using 'df.method({col: value}, inplace=True)' or df[col] = df[col].method(value) instead, to perform the operation inplace on the original object.\n",
            "\n",
            "\n",
            "  df['Calories'].fillna(mean_calories, inplace=True)\n"
          ]
        }
      ]
    },
    {
      "cell_type": "code",
      "source": [
        "#Calcula de nuevo la media de la columna Calories después de que has imputado.\n",
        "print(df['Calories'].median())"
      ],
      "metadata": {
        "colab": {
          "base_uri": "https://localhost:8080/"
        },
        "id": "kNxEEGHL5Xdr",
        "outputId": "d40beed6-20df-4eea-bd6b-9fed3081c9f5"
      },
      "execution_count": 145,
      "outputs": [
        {
          "output_type": "stream",
          "name": "stdout",
          "text": [
            "300.0\n"
          ]
        }
      ]
    },
    {
      "cell_type": "markdown",
      "source": [
        "###Ejercicio 02. Duplicidad Parcial Una columna: Contar y Filtrar los registros duplicados en Duration"
      ],
      "metadata": {
        "id": "f5IkwVKd5gPz"
      }
    },
    {
      "cell_type": "code",
      "source": [
        "  #Importamos la librería de pandas y asignamos un alias (pd)\n",
        "  import pandas as pd\n",
        "\n",
        "  # Leemos el archivo que contiene comas\n",
        "  df = pd.read_csv(\"/content/drive/MyDrive/Colab Notebooks/Programacion /Semana 07 09142025/dirtydata.csv\")\n",
        "  #imprimimos el nombre de las columnas\n",
        "  print(df.columns)\n",
        "  print(df.head(10))"
      ],
      "metadata": {
        "colab": {
          "base_uri": "https://localhost:8080/"
        },
        "id": "XxYZCbfvIxh7",
        "outputId": "a641c5d6-7ef3-4ded-e4a1-711b5da6ada2"
      },
      "execution_count": 146,
      "outputs": [
        {
          "output_type": "stream",
          "name": "stdout",
          "text": [
            "Index(['Duration', 'Date', 'Pulse', 'Maxpulse', 'Calories'], dtype='object')\n",
            "   Duration          Date  Pulse  Maxpulse  Calories\n",
            "0        60  '2020/12/01'    110       130     409.1\n",
            "1        60  '2020/12/02'    117       145     479.0\n",
            "2        60  '2020/12/03'    103       135     340.0\n",
            "3        45  '2020/12/04'    109       175     282.4\n",
            "4        45  '2020/12/05'    117       148     406.0\n",
            "5        60  '2020/12/06'    102       127     300.0\n",
            "6        60  '2020/12/07'    110       136     374.0\n",
            "7       450  '2020/12/08'    104       134     253.3\n",
            "8        30  '2020/12/09'    109       133     195.1\n",
            "9        60  '2020/12/10'     98       124     269.0\n"
          ]
        }
      ]
    },
    {
      "cell_type": "code",
      "source": [
        "num_duplicados_id = df.duplicated(subset=['Duration'], keep=False).sum()\n",
        "print(f\"Número Total de registros con Duration duplicado (todas las apariciones): {num_duplicados_id}\")"
      ],
      "metadata": {
        "colab": {
          "base_uri": "https://localhost:8080/"
        },
        "id": "z94GrjGO6DQi",
        "outputId": "0eecbf15-b626-4244-c658-ef9f33fd9e2d"
      },
      "execution_count": 147,
      "outputs": [
        {
          "output_type": "stream",
          "name": "stdout",
          "text": [
            "Número Total de registros con Duration duplicado (todas las apariciones): 30\n"
          ]
        }
      ]
    },
    {
      "cell_type": "code",
      "source": [
        "#Identifica las categorias de la columna Durantion\n",
        "print(df['Duration'].unique())"
      ],
      "metadata": {
        "colab": {
          "base_uri": "https://localhost:8080/"
        },
        "id": "PyXJWuxN6a0V",
        "outputId": "87b96af1-8c47-4ca4-8925-4527d434eacf"
      },
      "execution_count": 148,
      "outputs": [
        {
          "output_type": "stream",
          "name": "stdout",
          "text": [
            "[ 60  45 450  30]\n"
          ]
        }
      ]
    },
    {
      "cell_type": "code",
      "source": [
        "#Utiliza value_counts() e imprime la cantidad de registros que hay por cada valor único.\n",
        "print(df['Duration'].value_counts())"
      ],
      "metadata": {
        "colab": {
          "base_uri": "https://localhost:8080/"
        },
        "id": "9Rg4oK7b6tCy",
        "outputId": "72792496-014d-486f-a910-fe09758a1117"
      },
      "execution_count": 149,
      "outputs": [
        {
          "output_type": "stream",
          "name": "stdout",
          "text": [
            "Duration\n",
            "60     24\n",
            "45      6\n",
            "450     1\n",
            "30      1\n",
            "Name: count, dtype: int64\n"
          ]
        }
      ]
    },
    {
      "cell_type": "code",
      "source": [
        "# Cuenta el numero de duplicados en la columna Duracion (excluyendo la primera ocurrencia)\n",
        "num_duplicates = df[\"Duration\"].duplicated().sum()\n",
        "print(f\"Number of duplicate entries in 'Duration': {num_duplicates}\")"
      ],
      "metadata": {
        "colab": {
          "base_uri": "https://localhost:8080/"
        },
        "id": "cc6B5Phe7q3a",
        "outputId": "242cb7cd-320f-4ee3-e782-d4b4cc2e56e4"
      },
      "execution_count": 150,
      "outputs": [
        {
          "output_type": "stream",
          "name": "stdout",
          "text": [
            "Number of duplicate entries in 'Duration': 28\n"
          ]
        }
      ]
    },
    {
      "cell_type": "code",
      "source": [
        "# Contar cuántas veces aparece cada valor único\n",
        "conteo = df[\"Duration\"].value_counts()\n",
        "\n",
        "# Solo los valores que tienen duplicados (más de 1 aparición)\n",
        "duplicados_por_categoria = conteo[conteo > 1] - 1  # restamos 1 para contar duplicados reales\n",
        "print(\"Cantidad de duplicados por valor de Duration:\")\n",
        "print(duplicados_por_categoria)"
      ],
      "metadata": {
        "colab": {
          "base_uri": "https://localhost:8080/"
        },
        "id": "5Pge-NmaHzEg",
        "outputId": "1a733e5e-faef-433a-8aa3-1b498fe2cb77"
      },
      "execution_count": 151,
      "outputs": [
        {
          "output_type": "stream",
          "name": "stdout",
          "text": [
            "Cantidad de duplicados por valor de Duration:\n",
            "Duration\n",
            "60    23\n",
            "45     5\n",
            "Name: count, dtype: int64\n"
          ]
        }
      ]
    },
    {
      "cell_type": "code",
      "metadata": {
        "colab": {
          "base_uri": "https://localhost:8080/"
        },
        "id": "6173ee46",
        "outputId": "a93a46e5-2281-44bf-b533-5b3cfd86907a"
      },
      "source": [
        "# 3. Filtrar datos y obtener registros sin duplicados\n",
        "df_sin_duplicados = df.drop_duplicates(subset=[\"Duration\"])\n",
        "print(\"\\nDataFrame sin registros duplicados en Duration:\")\n",
        "print(df_sin_duplicados)"
      ],
      "execution_count": 152,
      "outputs": [
        {
          "output_type": "stream",
          "name": "stdout",
          "text": [
            "\n",
            "DataFrame sin registros duplicados en Duration:\n",
            "   Duration          Date  Pulse  Maxpulse  Calories\n",
            "0        60  '2020/12/01'    110       130     409.1\n",
            "3        45  '2020/12/04'    109       175     282.4\n",
            "7       450  '2020/12/08'    104       134     253.3\n",
            "8        30  '2020/12/09'    109       133     195.1\n"
          ]
        }
      ]
    },
    {
      "cell_type": "code",
      "source": [
        "df_sin_duplicados.info()"
      ],
      "metadata": {
        "colab": {
          "base_uri": "https://localhost:8080/"
        },
        "id": "vQ9T0dEiG1c2",
        "outputId": "13553963-5280-446b-84bd-f2e2f7b8b97b"
      },
      "execution_count": 153,
      "outputs": [
        {
          "output_type": "stream",
          "name": "stdout",
          "text": [
            "<class 'pandas.core.frame.DataFrame'>\n",
            "Index: 4 entries, 0 to 8\n",
            "Data columns (total 5 columns):\n",
            " #   Column    Non-Null Count  Dtype  \n",
            "---  ------    --------------  -----  \n",
            " 0   Duration  4 non-null      int64  \n",
            " 1   Date      4 non-null      object \n",
            " 2   Pulse     4 non-null      int64  \n",
            " 3   Maxpulse  4 non-null      int64  \n",
            " 4   Calories  4 non-null      float64\n",
            "dtypes: float64(1), int64(3), object(1)\n",
            "memory usage: 192.0+ bytes\n"
          ]
        }
      ]
    },
    {
      "cell_type": "markdown",
      "source": [
        "###Ejercicio 03 Duplicidad Parcial Dos columnaa: Contar y Filtrar los registros duplicados en Pulse y MaxPulse"
      ],
      "metadata": {
        "id": "LT84lPQXIh0m"
      }
    },
    {
      "cell_type": "code",
      "source": [
        "  #Importamos la librería de pandas y asignamos un alias (pd)\n",
        "  import pandas as pd\n",
        "\n",
        "  # Leemos el archivo que contiene comas\n",
        "  df = pd.read_csv(\"/content/drive/MyDrive/Colab Notebooks/Programacion /Semana 07 09142025/dirtydata.csv\")\n",
        "  #imprimimos el nombre de las columnas\n",
        "  print(df.columns)\n",
        "  print(df.head(10))\n",
        "  print(df.info())"
      ],
      "metadata": {
        "colab": {
          "base_uri": "https://localhost:8080/"
        },
        "id": "K2JA6aGUI6LW",
        "outputId": "34eae11b-a8ae-49fd-b2d0-a588529104cb"
      },
      "execution_count": 154,
      "outputs": [
        {
          "output_type": "stream",
          "name": "stdout",
          "text": [
            "Index(['Duration', 'Date', 'Pulse', 'Maxpulse', 'Calories'], dtype='object')\n",
            "   Duration          Date  Pulse  Maxpulse  Calories\n",
            "0        60  '2020/12/01'    110       130     409.1\n",
            "1        60  '2020/12/02'    117       145     479.0\n",
            "2        60  '2020/12/03'    103       135     340.0\n",
            "3        45  '2020/12/04'    109       175     282.4\n",
            "4        45  '2020/12/05'    117       148     406.0\n",
            "5        60  '2020/12/06'    102       127     300.0\n",
            "6        60  '2020/12/07'    110       136     374.0\n",
            "7       450  '2020/12/08'    104       134     253.3\n",
            "8        30  '2020/12/09'    109       133     195.1\n",
            "9        60  '2020/12/10'     98       124     269.0\n",
            "<class 'pandas.core.frame.DataFrame'>\n",
            "RangeIndex: 32 entries, 0 to 31\n",
            "Data columns (total 5 columns):\n",
            " #   Column    Non-Null Count  Dtype  \n",
            "---  ------    --------------  -----  \n",
            " 0   Duration  32 non-null     int64  \n",
            " 1   Date      31 non-null     object \n",
            " 2   Pulse     32 non-null     int64  \n",
            " 3   Maxpulse  32 non-null     int64  \n",
            " 4   Calories  30 non-null     float64\n",
            "dtypes: float64(1), int64(3), object(1)\n",
            "memory usage: 1.4+ KB\n",
            "None\n"
          ]
        }
      ]
    },
    {
      "cell_type": "code",
      "source": [
        "num_duplicados_m = df.duplicated(subset=['Pulse', 'Maxpulse'], keep=False).sum()\n",
        "print(f\"Número Total de registros duplicados en Pulse y Maxpulse (todas las apariciones y se repiten juntos): {num_duplicados_m}\")"
      ],
      "metadata": {
        "colab": {
          "base_uri": "https://localhost:8080/"
        },
        "id": "GDcpHqotI796",
        "outputId": "09a5c184-9ec1-42ca-cb0b-7443af2c2265"
      },
      "execution_count": 155,
      "outputs": [
        {
          "output_type": "stream",
          "name": "stdout",
          "text": [
            "Número Total de registros duplicados en Pulse y Maxpulse (todas las apariciones y se repiten juntos): 4\n"
          ]
        }
      ]
    },
    {
      "cell_type": "code",
      "source": [
        "#Utiliza value_counts() e imprime la cantidad de registros que hay por cada valor único.\n",
        "print(df[['Pulse',\"Maxpulse\"]].value_counts(), \"\\n\")\n",
        "#print(df[['Maxpulse']].value_counts())"
      ],
      "metadata": {
        "colab": {
          "base_uri": "https://localhost:8080/"
        },
        "id": "dmgRgFSjKQIl",
        "outputId": "45fb8d0f-e9de-48cc-a530-f8006e46cb65"
      },
      "execution_count": 156,
      "outputs": [
        {
          "output_type": "stream",
          "name": "stdout",
          "text": [
            "Pulse  Maxpulse\n",
            "100    120         4\n",
            "92     115         1\n",
            "       118         1\n",
            "97     125         1\n",
            "90     112         1\n",
            "98     120         1\n",
            "       123         1\n",
            "       124         1\n",
            "100    119         1\n",
            "       132         1\n",
            "102    126         1\n",
            "       127         1\n",
            "       129         1\n",
            "103    123         1\n",
            "       132         1\n",
            "       135         1\n",
            "       147         1\n",
            "104    132         1\n",
            "       134         1\n",
            "105    132         1\n",
            "106    128         1\n",
            "108    131         1\n",
            "109    133         1\n",
            "       175         1\n",
            "110    130         1\n",
            "       136         1\n",
            "117    145         1\n",
            "       148         1\n",
            "130    101         1\n",
            "Name: count, dtype: int64 \n",
            "\n"
          ]
        }
      ]
    },
    {
      "cell_type": "code",
      "source": [
        "df_sin_duplicados = df.drop_duplicates(subset=[\"Pulse\", \"Maxpulse\"], keep=\"last\")\n",
        "print(df_sin_duplicados)"
      ],
      "metadata": {
        "colab": {
          "base_uri": "https://localhost:8080/"
        },
        "id": "up5MbN0uLUF3",
        "outputId": "328cb9a9-e636-4a4e-ab66-b7ff70ffc3f6"
      },
      "execution_count": 157,
      "outputs": [
        {
          "output_type": "stream",
          "name": "stdout",
          "text": [
            "    Duration          Date  Pulse  Maxpulse  Calories\n",
            "0         60  '2020/12/01'    110       130     409.1\n",
            "1         60  '2020/12/02'    117       145     479.0\n",
            "2         60  '2020/12/03'    103       135     340.0\n",
            "3         45  '2020/12/04'    109       175     282.4\n",
            "4         45  '2020/12/05'    117       148     406.0\n",
            "5         60  '2020/12/06'    102       127     300.0\n",
            "6         60  '2020/12/07'    110       136     374.0\n",
            "7        450  '2020/12/08'    104       134     253.3\n",
            "8         30  '2020/12/09'    109       133     195.1\n",
            "9         60  '2020/12/10'     98       124     269.0\n",
            "10        60  '2020/12/11'    103       147     329.3\n",
            "13        60  '2020/12/13'    106       128     345.3\n",
            "14        60  '2020/12/14'    104       132     379.3\n",
            "15        60  '2020/12/15'     98       123     275.0\n",
            "16        60  '2020/12/16'     98       120     215.2\n",
            "18        45  '2020/12/18'     90       112       NaN\n",
            "19        60  '2020/12/19'    103       123     323.0\n",
            "20        45  '2020/12/20'     97       125     243.0\n",
            "21        60  '2020/12/21'    108       131     364.2\n",
            "22        45           NaN    100       119     282.0\n",
            "23        60  '2020/12/23'    130       101     300.0\n",
            "24        45  '2020/12/24'    105       132     246.0\n",
            "25        60  '2020/12/25'    102       126     334.5\n",
            "26        60      20201226    100       120     250.0\n",
            "27        60  '2020/12/27'     92       118     241.0\n",
            "28        60  '2020/12/28'    103       132       NaN\n",
            "29        60  '2020/12/29'    100       132     280.0\n",
            "30        60  '2020/12/30'    102       129     380.3\n",
            "31        60  '2020/12/31'     92       115     243.0\n"
          ]
        }
      ]
    },
    {
      "cell_type": "markdown",
      "source": [
        "###Ejercicio 04 Duplicidad Total o Exacta: Contar y Filtrar los registros duplicados"
      ],
      "metadata": {
        "id": "BkA5SYV_Lu-2"
      }
    },
    {
      "cell_type": "code",
      "source": [
        "  #Importamos la librería de pandas y asignamos un alias (pd)\n",
        "  import pandas as pd\n",
        "\n",
        "  # Leemos el archivo que contiene comas\n",
        "  df = pd.read_csv(\"/content/drive/MyDrive/Colab Notebooks/Programacion /Semana 07 09142025/dirtydata.csv\")\n",
        "  #imprimimos el nombre de las columnas\n",
        "  print(df.columns)\n",
        "  print(df.head(32))\n",
        "  print(df.info())"
      ],
      "metadata": {
        "colab": {
          "base_uri": "https://localhost:8080/"
        },
        "id": "0-I9dk1YLv6r",
        "outputId": "9fd80caa-2df7-4d6d-bc21-03d3d2e2271f"
      },
      "execution_count": 158,
      "outputs": [
        {
          "output_type": "stream",
          "name": "stdout",
          "text": [
            "Index(['Duration', 'Date', 'Pulse', 'Maxpulse', 'Calories'], dtype='object')\n",
            "    Duration          Date  Pulse  Maxpulse  Calories\n",
            "0         60  '2020/12/01'    110       130     409.1\n",
            "1         60  '2020/12/02'    117       145     479.0\n",
            "2         60  '2020/12/03'    103       135     340.0\n",
            "3         45  '2020/12/04'    109       175     282.4\n",
            "4         45  '2020/12/05'    117       148     406.0\n",
            "5         60  '2020/12/06'    102       127     300.0\n",
            "6         60  '2020/12/07'    110       136     374.0\n",
            "7        450  '2020/12/08'    104       134     253.3\n",
            "8         30  '2020/12/09'    109       133     195.1\n",
            "9         60  '2020/12/10'     98       124     269.0\n",
            "10        60  '2020/12/11'    103       147     329.3\n",
            "11        60  '2020/12/12'    100       120     250.7\n",
            "12        60  '2020/12/12'    100       120     250.7\n",
            "13        60  '2020/12/13'    106       128     345.3\n",
            "14        60  '2020/12/14'    104       132     379.3\n",
            "15        60  '2020/12/15'     98       123     275.0\n",
            "16        60  '2020/12/16'     98       120     215.2\n",
            "17        60  '2020/12/17'    100       120     300.0\n",
            "18        45  '2020/12/18'     90       112       NaN\n",
            "19        60  '2020/12/19'    103       123     323.0\n",
            "20        45  '2020/12/20'     97       125     243.0\n",
            "21        60  '2020/12/21'    108       131     364.2\n",
            "22        45           NaN    100       119     282.0\n",
            "23        60  '2020/12/23'    130       101     300.0\n",
            "24        45  '2020/12/24'    105       132     246.0\n",
            "25        60  '2020/12/25'    102       126     334.5\n",
            "26        60      20201226    100       120     250.0\n",
            "27        60  '2020/12/27'     92       118     241.0\n",
            "28        60  '2020/12/28'    103       132       NaN\n",
            "29        60  '2020/12/29'    100       132     280.0\n",
            "30        60  '2020/12/30'    102       129     380.3\n",
            "31        60  '2020/12/31'     92       115     243.0\n",
            "<class 'pandas.core.frame.DataFrame'>\n",
            "RangeIndex: 32 entries, 0 to 31\n",
            "Data columns (total 5 columns):\n",
            " #   Column    Non-Null Count  Dtype  \n",
            "---  ------    --------------  -----  \n",
            " 0   Duration  32 non-null     int64  \n",
            " 1   Date      31 non-null     object \n",
            " 2   Pulse     32 non-null     int64  \n",
            " 3   Maxpulse  32 non-null     int64  \n",
            " 4   Calories  30 non-null     float64\n",
            "dtypes: float64(1), int64(3), object(1)\n",
            "memory usage: 1.4+ KB\n",
            "None\n"
          ]
        }
      ]
    },
    {
      "cell_type": "code",
      "source": [
        "# Contar filas duplicadas en todo el DataFrame\n",
        "num_duplicados = df.duplicated().sum()\n",
        "print(f\"Número total de registros duplicados sin tener en cuenta la primera aparación: {num_duplicados}\")"
      ],
      "metadata": {
        "colab": {
          "base_uri": "https://localhost:8080/"
        },
        "id": "G8TC3lguNUPz",
        "outputId": "a13667d4-7bc9-4fba-9bef-88cd2335a351"
      },
      "execution_count": 159,
      "outputs": [
        {
          "output_type": "stream",
          "name": "stdout",
          "text": [
            "Número total de registros duplicados sin tener en cuenta la primera aparación: 1\n"
          ]
        }
      ]
    },
    {
      "cell_type": "code",
      "source": [
        "# Eliminar duplicados y conservar solo la primera aparición\n",
        "df_sin_duplicados = df.drop_duplicates()\n",
        "print('\\nEliminar duplicados y conservar solo la primera aparición')\n",
        "print(df_sin_duplicados)"
      ],
      "metadata": {
        "colab": {
          "base_uri": "https://localhost:8080/"
        },
        "id": "zw2FPj58OAB2",
        "outputId": "e918a4f1-acd4-4c00-9c2c-ea9557b29481"
      },
      "execution_count": 160,
      "outputs": [
        {
          "output_type": "stream",
          "name": "stdout",
          "text": [
            "\n",
            "Eliminar duplicados y conservar solo la primera aparición\n",
            "    Duration          Date  Pulse  Maxpulse  Calories\n",
            "0         60  '2020/12/01'    110       130     409.1\n",
            "1         60  '2020/12/02'    117       145     479.0\n",
            "2         60  '2020/12/03'    103       135     340.0\n",
            "3         45  '2020/12/04'    109       175     282.4\n",
            "4         45  '2020/12/05'    117       148     406.0\n",
            "5         60  '2020/12/06'    102       127     300.0\n",
            "6         60  '2020/12/07'    110       136     374.0\n",
            "7        450  '2020/12/08'    104       134     253.3\n",
            "8         30  '2020/12/09'    109       133     195.1\n",
            "9         60  '2020/12/10'     98       124     269.0\n",
            "10        60  '2020/12/11'    103       147     329.3\n",
            "11        60  '2020/12/12'    100       120     250.7\n",
            "13        60  '2020/12/13'    106       128     345.3\n",
            "14        60  '2020/12/14'    104       132     379.3\n",
            "15        60  '2020/12/15'     98       123     275.0\n",
            "16        60  '2020/12/16'     98       120     215.2\n",
            "17        60  '2020/12/17'    100       120     300.0\n",
            "18        45  '2020/12/18'     90       112       NaN\n",
            "19        60  '2020/12/19'    103       123     323.0\n",
            "20        45  '2020/12/20'     97       125     243.0\n",
            "21        60  '2020/12/21'    108       131     364.2\n",
            "22        45           NaN    100       119     282.0\n",
            "23        60  '2020/12/23'    130       101     300.0\n",
            "24        45  '2020/12/24'    105       132     246.0\n",
            "25        60  '2020/12/25'    102       126     334.5\n",
            "26        60      20201226    100       120     250.0\n",
            "27        60  '2020/12/27'     92       118     241.0\n",
            "28        60  '2020/12/28'    103       132       NaN\n",
            "29        60  '2020/12/29'    100       132     280.0\n",
            "30        60  '2020/12/30'    102       129     380.3\n",
            "31        60  '2020/12/31'     92       115     243.0\n"
          ]
        }
      ]
    },
    {
      "cell_type": "code",
      "source": [
        "#Filas con todas las columnas duplicadas\n",
        "duplicados = df[df.duplicated( keep=\"last\")]\n",
        "print(duplicados)"
      ],
      "metadata": {
        "colab": {
          "base_uri": "https://localhost:8080/"
        },
        "id": "tCdlfZQ3OzjR",
        "outputId": "b714f62d-6d9e-41bb-ff34-f22ed90d9acf"
      },
      "execution_count": 161,
      "outputs": [
        {
          "output_type": "stream",
          "name": "stdout",
          "text": [
            "    Duration          Date  Pulse  Maxpulse  Calories\n",
            "11        60  '2020/12/12'    100       120     250.7\n"
          ]
        }
      ]
    },
    {
      "cell_type": "markdown",
      "source": [
        "###Ejercicio 05: Cálculo de la media con duplicados y sin duplicados"
      ],
      "metadata": {
        "id": "zVy5PwGsQhpg"
      }
    },
    {
      "cell_type": "code",
      "source": [
        "  # Leemos el archivo que contiene comas\n",
        "  df = pd.read_csv(\"/content/drive/MyDrive/Colab Notebooks/Programacion /Semana 07 09142025/dirtydata.csv\")\n",
        "  #imprimimos el nombre de las columnas\n",
        "  print(df.columns)\n",
        "  print(df.head(32))\n",
        "  print(df.info())"
      ],
      "metadata": {
        "colab": {
          "base_uri": "https://localhost:8080/"
        },
        "id": "LPRRHTAbQjvn",
        "outputId": "10a8df28-4a11-4ffb-fd8b-06bf40fcf3e5"
      },
      "execution_count": 162,
      "outputs": [
        {
          "output_type": "stream",
          "name": "stdout",
          "text": [
            "Index(['Duration', 'Date', 'Pulse', 'Maxpulse', 'Calories'], dtype='object')\n",
            "    Duration          Date  Pulse  Maxpulse  Calories\n",
            "0         60  '2020/12/01'    110       130     409.1\n",
            "1         60  '2020/12/02'    117       145     479.0\n",
            "2         60  '2020/12/03'    103       135     340.0\n",
            "3         45  '2020/12/04'    109       175     282.4\n",
            "4         45  '2020/12/05'    117       148     406.0\n",
            "5         60  '2020/12/06'    102       127     300.0\n",
            "6         60  '2020/12/07'    110       136     374.0\n",
            "7        450  '2020/12/08'    104       134     253.3\n",
            "8         30  '2020/12/09'    109       133     195.1\n",
            "9         60  '2020/12/10'     98       124     269.0\n",
            "10        60  '2020/12/11'    103       147     329.3\n",
            "11        60  '2020/12/12'    100       120     250.7\n",
            "12        60  '2020/12/12'    100       120     250.7\n",
            "13        60  '2020/12/13'    106       128     345.3\n",
            "14        60  '2020/12/14'    104       132     379.3\n",
            "15        60  '2020/12/15'     98       123     275.0\n",
            "16        60  '2020/12/16'     98       120     215.2\n",
            "17        60  '2020/12/17'    100       120     300.0\n",
            "18        45  '2020/12/18'     90       112       NaN\n",
            "19        60  '2020/12/19'    103       123     323.0\n",
            "20        45  '2020/12/20'     97       125     243.0\n",
            "21        60  '2020/12/21'    108       131     364.2\n",
            "22        45           NaN    100       119     282.0\n",
            "23        60  '2020/12/23'    130       101     300.0\n",
            "24        45  '2020/12/24'    105       132     246.0\n",
            "25        60  '2020/12/25'    102       126     334.5\n",
            "26        60      20201226    100       120     250.0\n",
            "27        60  '2020/12/27'     92       118     241.0\n",
            "28        60  '2020/12/28'    103       132       NaN\n",
            "29        60  '2020/12/29'    100       132     280.0\n",
            "30        60  '2020/12/30'    102       129     380.3\n",
            "31        60  '2020/12/31'     92       115     243.0\n",
            "<class 'pandas.core.frame.DataFrame'>\n",
            "RangeIndex: 32 entries, 0 to 31\n",
            "Data columns (total 5 columns):\n",
            " #   Column    Non-Null Count  Dtype  \n",
            "---  ------    --------------  -----  \n",
            " 0   Duration  32 non-null     int64  \n",
            " 1   Date      31 non-null     object \n",
            " 2   Pulse     32 non-null     int64  \n",
            " 3   Maxpulse  32 non-null     int64  \n",
            " 4   Calories  30 non-null     float64\n",
            "dtypes: float64(1), int64(3), object(1)\n",
            "memory usage: 1.4+ KB\n",
            "None\n"
          ]
        }
      ]
    },
    {
      "cell_type": "code",
      "source": [
        "# Calcular e imprimir la media de Pulse y Maxpulse\n",
        "mean_pulse_maxpulse = df[['Pulse',\"Maxpulse\"]].mean()\n",
        "print(mean_pulse_maxpulse)"
      ],
      "metadata": {
        "colab": {
          "base_uri": "https://localhost:8080/"
        },
        "id": "48ZYp3BzQyeN",
        "outputId": "3ec59771-64db-4db6-d9d9-4480454b4cc3"
      },
      "execution_count": 163,
      "outputs": [
        {
          "output_type": "stream",
          "name": "stdout",
          "text": [
            "Pulse       103.5\n",
            "Maxpulse    128.5\n",
            "dtype: float64\n"
          ]
        }
      ]
    },
    {
      "cell_type": "code",
      "source": [
        "num_duplicados_mul = df.duplicated(subset=['Pulse', 'Maxpulse'], keep=False).sum()\n",
        "print(f\"Número Total de registros duplicados en Pulse y Maxpulse (todas las apariciones y se repiten juntos): {num_duplicados_mul}\")\n",
        "print(num_duplicados_mul)"
      ],
      "metadata": {
        "colab": {
          "base_uri": "https://localhost:8080/"
        },
        "id": "g4anPRCERtnZ",
        "outputId": "1ea4b3c3-0f54-4d02-d5a6-e56941d82f1f"
      },
      "execution_count": 164,
      "outputs": [
        {
          "output_type": "stream",
          "name": "stdout",
          "text": [
            "Número Total de registros duplicados en Pulse y Maxpulse (todas las apariciones y se repiten juntos): 4\n",
            "4\n"
          ]
        }
      ]
    },
    {
      "cell_type": "code",
      "source": [
        "# Filas que eran duplicadas (se eliminan)\n",
        "duplicados = df[df.duplicated(subset=[\"Pulse\", \"Maxpulse\"], keep=False)]\n",
        "print(\"Duplicados encontrados en Pulse y Maxpulse:\")\n",
        "print(duplicados.sort_values(by=[\"Pulse\", \"Maxpulse\"]))"
      ],
      "metadata": {
        "colab": {
          "base_uri": "https://localhost:8080/"
        },
        "id": "9-lTeoywZpvB",
        "outputId": "510087dc-644b-4bd3-eff9-a9dda0012e1d"
      },
      "execution_count": 165,
      "outputs": [
        {
          "output_type": "stream",
          "name": "stdout",
          "text": [
            "Duplicados encontrados en Pulse y Maxpulse:\n",
            "    Duration          Date  Pulse  Maxpulse  Calories\n",
            "11        60  '2020/12/12'    100       120     250.7\n",
            "12        60  '2020/12/12'    100       120     250.7\n",
            "17        60  '2020/12/17'    100       120     300.0\n",
            "26        60      20201226    100       120     250.0\n"
          ]
        }
      ]
    },
    {
      "cell_type": "code",
      "source": [
        "#eliminar duplicados considerando la columna \"ID\"\n",
        "print('\\nEliminar duplicados considerando la columna ID y conserva la primera aparición')\n",
        "df_sin_duplicados = df.drop_duplicates(subset=['Pulse', 'Maxpulse'],keep='last')\n",
        "print(df_sin_duplicados)"
      ],
      "metadata": {
        "colab": {
          "base_uri": "https://localhost:8080/"
        },
        "id": "o5kZ_QF5TWZK",
        "outputId": "f7d1ca19-2ebe-410c-87c0-c3036cc5eb9a"
      },
      "execution_count": 166,
      "outputs": [
        {
          "output_type": "stream",
          "name": "stdout",
          "text": [
            "\n",
            "Eliminar duplicados considerando la columna ID y conserva la primera aparición\n",
            "    Duration          Date  Pulse  Maxpulse  Calories\n",
            "0         60  '2020/12/01'    110       130     409.1\n",
            "1         60  '2020/12/02'    117       145     479.0\n",
            "2         60  '2020/12/03'    103       135     340.0\n",
            "3         45  '2020/12/04'    109       175     282.4\n",
            "4         45  '2020/12/05'    117       148     406.0\n",
            "5         60  '2020/12/06'    102       127     300.0\n",
            "6         60  '2020/12/07'    110       136     374.0\n",
            "7        450  '2020/12/08'    104       134     253.3\n",
            "8         30  '2020/12/09'    109       133     195.1\n",
            "9         60  '2020/12/10'     98       124     269.0\n",
            "10        60  '2020/12/11'    103       147     329.3\n",
            "13        60  '2020/12/13'    106       128     345.3\n",
            "14        60  '2020/12/14'    104       132     379.3\n",
            "15        60  '2020/12/15'     98       123     275.0\n",
            "16        60  '2020/12/16'     98       120     215.2\n",
            "18        45  '2020/12/18'     90       112       NaN\n",
            "19        60  '2020/12/19'    103       123     323.0\n",
            "20        45  '2020/12/20'     97       125     243.0\n",
            "21        60  '2020/12/21'    108       131     364.2\n",
            "22        45           NaN    100       119     282.0\n",
            "23        60  '2020/12/23'    130       101     300.0\n",
            "24        45  '2020/12/24'    105       132     246.0\n",
            "25        60  '2020/12/25'    102       126     334.5\n",
            "26        60      20201226    100       120     250.0\n",
            "27        60  '2020/12/27'     92       118     241.0\n",
            "28        60  '2020/12/28'    103       132       NaN\n",
            "29        60  '2020/12/29'    100       132     280.0\n",
            "30        60  '2020/12/30'    102       129     380.3\n",
            "31        60  '2020/12/31'     92       115     243.0\n"
          ]
        }
      ]
    },
    {
      "cell_type": "code",
      "source": [
        "# Calcular la media en el dataset sin duplicados parciales en Pulse y Maxpulse\n",
        "mean_df_sin_duplicados = df_sin_duplicados[['Pulse', 'Maxpulse']].mean()\n",
        "print(mean_df_sin_duplicados)"
      ],
      "metadata": {
        "colab": {
          "base_uri": "https://localhost:8080/"
        },
        "id": "Y2JIZ2iDUCyk",
        "outputId": "3563b208-582e-4458-9517-10e007860d83"
      },
      "execution_count": 167,
      "outputs": [
        {
          "output_type": "stream",
          "name": "stdout",
          "text": [
            "Pulse       103.862069\n",
            "Maxpulse    129.379310\n",
            "dtype: float64\n"
          ]
        }
      ]
    },
    {
      "cell_type": "markdown",
      "source": [
        "https://github.com/TonyProgramandoAndo/Practica-16-Datos-Duplicados"
      ],
      "metadata": {
        "id": "JngbL-aWaelu"
      }
    }
  ]
}